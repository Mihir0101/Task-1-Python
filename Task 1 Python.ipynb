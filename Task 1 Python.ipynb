{
 "cells": [
  {
   "cell_type": "markdown",
   "id": "317638dd-e5e2-42bf-8d15-3eaf2bdec88d",
   "metadata": {},
   "source": [
    "# Python Task 1"
   ]
  },
  {
   "cell_type": "markdown",
   "id": "21b47b75-797c-4439-ba3f-443004939b2e",
   "metadata": {},
   "source": [
    "------------------------------------------------------------------------------------------------------------------------------------------------"
   ]
  },
  {
   "cell_type": "markdown",
   "id": "049c2efa-57fb-49c0-b309-6d79e54b663b",
   "metadata": {},
   "source": [
    "Q1. Create a function which will take a list as an argument and return the product of all the numbers\n",
    "after creating a flat list.\n",
    "\n",
    "Use the below-given list as an argument for your function.\n",
    "\n",
    "list1 = [1,2,3,4, [44,55,66, True], False, (34,56,78,89,34), {1,2,3,3,2,1}, {1:34, \"key2\": [55, 67, 78, 89], 4: (45,\n",
    "22, 61, 34)}, [56, 'data science'], 'Machine Learning']"
   ]
  },
  {
   "cell_type": "code",
   "execution_count": null,
   "id": "4e97be82-cdcf-439b-bd07-981e87b9d5d5",
   "metadata": {},
   "outputs": [],
   "source": [
    "list1 = [1,2,3,4, [44,55,66, True], False, (34,56,78,89,34), {1,2,3,3,2,1}, {1:34, \"key2\": [55, 67, 78, 89], 4: (45,\n",
    "22, 61, 34)}, [56, 'data science'], 'Machine Learning']\n",
    "\n",
    "\n",
    "ll=[]\n",
    "for i in list1:\n",
    "    if type(i)==int:\n",
    "        ll.append(i)\n",
    "    elif type(i)==list:\n",
    "        for j in i:\n",
    "            ll.append(j)\n",
    "    elif type(i)==bool:\n",
    "        ll.append(i)\n",
    "    elif type(i)==tuple:\n",
    "        for j in i:\n",
    "            ll.append(j)\n",
    "    elif type(i)==set:\n",
    "        for j in i:\n",
    "            ll.append(j)\n",
    "    elif type(i)==dict:\n",
    "        for j in i:\n",
    "            if type(j)==int:\n",
    "                ll.append(j)\n",
    "            if type(i[j])==int:\n",
    "                ll.append(i[j])\n",
    "            if type(i[j])==tuple or type(i[j])==list:\n",
    "                for dd in i[j]:\n",
    "                    ll.append(dd)\n",
    "    \n",
    "_list=[]\n",
    "for ff in ll:\n",
    "    if type(ff)==int:\n",
    "        _list.append(ff)\n",
    "from functools import reduce\n",
    "flat_list=reduce(lambda x,y:x*y,_list)    \n",
    "\n"
   ]
  },
  {
   "cell_type": "code",
   "execution_count": 29,
   "id": "dbea4982-e934-46c0-92a3-240505d5a52a",
   "metadata": {},
   "outputs": [
    {
     "data": {
      "text/plain": [
       "4134711838987085478833841242112000"
      ]
     },
     "execution_count": 29,
     "metadata": {},
     "output_type": "execute_result"
    }
   ],
   "source": [
    "flat_list"
   ]
  },
  {
   "cell_type": "markdown",
   "id": "6064ecca-f224-407e-8b4e-dd44269b3583",
   "metadata": {},
   "source": [
    "------------------------------------------------------------------------------------------------------------------------------------------------"
   ]
  },
  {
   "cell_type": "markdown",
   "id": "8a880060-6144-4e77-b87c-0fc666d8da81",
   "metadata": {},
   "source": [
    "Q2. Write a python program for encrypting a message sent to you by your friend. The logic of encryption\n",
    "should be such that, for a the output should be z. For b, the output should be y. For c, the output should\n",
    "be x respectively. Also, the whitespace should be replaced with a dollar sign. Keep the punctuation\n",
    "marks unchanged.\n",
    "\n",
    "Input Sentence: I want to become a Data Scientist.\n",
    "\n",
    "Encrypt the above input sentence using the program you just created."
   ]
  },
  {
   "cell_type": "code",
   "execution_count": 32,
   "id": "db191018-7e63-498a-80b7-9fa769f73023",
   "metadata": {},
   "outputs": [
    {
     "name": "stdout",
     "output_type": "stream",
     "text": [
      "r$dzmg$gl$yvxlnv$z$wzgz$hxrvmgrhg.\n"
     ]
    }
   ],
   "source": [
    "message=\"I want to become a Data Scientist\"\n",
    "\n",
    "message=message.lower()\n",
    "mapping=str.maketrans(\"abcdefghijklmnopqrstuvwxyz \", \"zyxwvutsrqponmlkjihgfedcba$\")\n",
    "m=m.translate(mapping)\n",
    "print(m)"
   ]
  },
  {
   "cell_type": "code",
   "execution_count": null,
   "id": "f9d7899d-d886-4466-a274-6bcd633a5c9c",
   "metadata": {},
   "outputs": [],
   "source": [
    "mapping=str.maketrans(\"abcdefghijklmnopqrstuvwxyz \",\"zyxwvutsrqponmlkjihgfedcba$\")"
   ]
  },
  {
   "cell_type": "code",
   "execution_count": null,
   "id": "cb967d8d-badb-4a78-bdf5-b882e9b921d8",
   "metadata": {},
   "outputs": [],
   "source": []
  }
 ],
 "metadata": {
  "kernelspec": {
   "display_name": "Python 3 (ipykernel)",
   "language": "python",
   "name": "python3"
  },
  "language_info": {
   "codemirror_mode": {
    "name": "ipython",
    "version": 3
   },
   "file_extension": ".py",
   "mimetype": "text/x-python",
   "name": "python",
   "nbconvert_exporter": "python",
   "pygments_lexer": "ipython3",
   "version": "3.10.8"
  }
 },
 "nbformat": 4,
 "nbformat_minor": 5
}
